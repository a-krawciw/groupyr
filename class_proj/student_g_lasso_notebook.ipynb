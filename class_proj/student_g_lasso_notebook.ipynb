{
 "cells": [
  {
   "cell_type": "code",
   "execution_count": null,
   "metadata": {
    "collapsed": true
   },
   "outputs": [],
   "source": []
  },
  {
   "cell_type": "code",
   "execution_count": 1,
   "outputs": [],
   "source": [
    "import numpy as np\n",
    "from matplotlib import pyplot as plt\n",
    "from groupyr import LogisticSGL\n",
    "import pandas as pd\n"
   ],
   "metadata": {
    "collapsed": false
   }
  },
  {
   "cell_type": "code",
   "execution_count": 2,
   "outputs": [],
   "source": [
    "def mark_as_categorical(dataframe: pd.DataFrame, category: str):\n",
    "    dataframe[category] = dataframe[category].astype('category')\n",
    "\n",
    "def get_categories(dataframe: pd.DataFrame):\n",
    "    return [col for col in dataframe.select_dtypes(include=\"category\")]"
   ],
   "metadata": {
    "collapsed": false
   }
  },
  {
   "cell_type": "code",
   "execution_count": 3,
   "outputs": [],
   "source": [
    "def create_groups_from_1hot(data_frame: pd.DataFrame):\n",
    "    expanded = pd.get_dummies(data_frame)\n",
    "    groups = {col: [] for col in data_frame}\n",
    "    for idx, col in enumerate(expanded):\n",
    "        category = col.split(\"_\")[0]\n",
    "        groups[category].append(idx)\n",
    "\n",
    "    groups = {k: np.array(v) for k, v in groups.items()}\n",
    "    return expanded, groups"
   ],
   "metadata": {
    "collapsed": false
   }
  },
  {
   "cell_type": "code",
   "execution_count": 19,
   "outputs": [],
   "source": [
    "kid_data = pd.read_csv(\"data.csv\", delimiter=\";\")"
   ],
   "metadata": {
    "collapsed": false
   }
  },
  {
   "cell_type": "code",
   "execution_count": 43,
   "outputs": [
    {
     "data": {
      "text/plain": "[array([26, 27, 28, 29, 30, 31]),\n array([32, 33, 34, 35, 36, 37, 38, 39, 40, 41, 42, 43, 44, 45, 46, 47, 48,\n        49]),\n array([50, 51, 52, 53, 54, 55, 56, 57]),\n array([0]),\n array([58, 59]),\n array([60, 61, 62, 63, 64, 65, 66, 67, 68, 69, 70, 71, 72, 73, 74, 75, 76]),\n array([1]),\n array([77, 78, 79, 80, 81, 82, 83, 84, 85, 86, 87, 88, 89, 90, 91, 92, 93,\n        94, 95, 96, 97]),\n array([ 98,  99, 100, 101, 102, 103, 104, 105, 106, 107, 108, 109, 110,\n        111, 112, 113, 114, 115, 116, 117, 118, 119, 120, 121, 122, 123,\n        124, 125, 126]),\n array([127, 128, 129, 130, 131, 132, 133, 134, 135, 136, 137, 138, 139,\n        140, 141, 142, 143, 144, 145, 146, 147, 148, 149, 150, 151, 152,\n        153, 154, 155, 156, 157, 158, 159, 160]),\n array([161, 162, 163, 164, 165, 166, 167, 168, 169, 170, 171, 172, 173,\n        174, 175, 176, 177, 178, 179, 180, 181, 182, 183, 184, 185, 186,\n        187, 188, 189, 190, 191, 192]),\n array([193, 194, 195, 196, 197, 198, 199, 200, 201, 202, 203, 204, 205,\n        206, 207, 208, 209, 210, 211, 212, 213, 214, 215, 216, 217, 218,\n        219, 220, 221, 222, 223, 224, 225, 226, 227, 228, 229, 230, 231,\n        232, 233, 234, 235, 236, 237, 238]),\n array([2]),\n array([3]),\n array([4]),\n array([5]),\n array([6]),\n array([7]),\n array([8]),\n array([9]),\n array([10]),\n array([11]),\n array([12]),\n array([13]),\n array([14]),\n array([15]),\n array([16]),\n array([17]),\n array([18]),\n array([19]),\n array([20]),\n array([21]),\n array([22]),\n array([23]),\n array([24]),\n array([25])]"
     },
     "execution_count": 43,
     "metadata": {},
     "output_type": "execute_result"
    }
   ],
   "source": [
    "mark_as_categorical(kid_data, \"MaritalStatus\")\n",
    "mark_as_categorical(kid_data, \"ApplicationMode\")\n",
    "mark_as_categorical(kid_data, \"ApplicationOrder\")\n",
    "mark_as_categorical(kid_data, \"TimeOfDay\")\n",
    "mark_as_categorical(kid_data, \"PreviousQualification\")\n",
    "mark_as_categorical(kid_data, \"Nationality\")\n",
    "mark_as_categorical(kid_data, \"MotherQualification\")\n",
    "mark_as_categorical(kid_data, \"FatherQualification\")\n",
    "mark_as_categorical(kid_data, \"MotherOccupation\")\n",
    "mark_as_categorical(kid_data, \"FatherOccupation\")\n",
    "target = kid_data.get(\"Target\").replace(['Dropout', 'Graduate', 'Enrolled'], [0, 1, 1]).astype(float),\n",
    "\n",
    "\n",
    "for col in kid_data.select_dtypes(include=\"float64\", exclude=\"category\"):\n",
    "    kid_data[col] /= kid_data[col].max()\n",
    "\n",
    "expanded_X, group_idxs = create_groups_from_1hot(kid_data.drop(columns=\"Target\"))\n",
    "list(group_idxs.values())"
   ],
   "metadata": {
    "collapsed": false
   }
  },
  {
   "cell_type": "code",
   "execution_count": 6,
   "outputs": [
    {
     "data": {
      "text/plain": "Graduate    2209\nDropout     1421\nEnrolled     794\nName: Target, dtype: int64"
     },
     "execution_count": 6,
     "metadata": {},
     "output_type": "execute_result"
    }
   ],
   "source": [
    "kid_data.get(\"Target\").value_counts()"
   ],
   "metadata": {
    "collapsed": false
   }
  },
  {
   "cell_type": "code",
   "execution_count": 7,
   "outputs": [
    {
     "data": {
      "text/plain": "['MaritalStatus',\n 'ApplicationMode',\n 'ApplicationOrder',\n 'TimeOfDay',\n 'PreviousQualification',\n 'Nationality',\n 'MotherQualification',\n 'FatherQualification',\n 'MotherOccupation',\n 'FatherOccupation']"
     },
     "execution_count": 7,
     "metadata": {},
     "output_type": "execute_result"
    }
   ],
   "source": [
    "get_categories(kid_data)"
   ],
   "metadata": {
    "collapsed": false
   }
  },
  {
   "cell_type": "code",
   "execution_count": 47,
   "outputs": [
    {
     "name": "stdout",
     "output_type": "stream",
     "text": [
      "(4424, 239)\n",
      "(4424,)\n"
     ]
    }
   ],
   "source": [
    "from groupyr import LogisticSGLCV\n",
    "\n",
    "X = expanded_X.to_numpy(np.float64)\n",
    "y = kid_data['Target'].replace(['Dropout', 'Graduate', 'Enrolled'], [0, 1, 1]).to_numpy(np.float64)\n",
    "\n",
    "print(X.shape)\n",
    "print(y.shape)\n",
    "\n",
    "model = LogisticSGL(groups=list(group_idxs.values()), l1_ratio=1, alpha=0.0001,\n",
    "    verbose=2, suppress_solver_warnings=False, max_iter=10000\n",
    ").fit(X, y)\n",
    "\n"
   ],
   "metadata": {
    "collapsed": false
   }
  },
  {
   "cell_type": "code",
   "execution_count": 48,
   "outputs": [
    {
     "data": {
      "text/plain": "0.8899186256781193"
     },
     "execution_count": 48,
     "metadata": {},
     "output_type": "execute_result"
    }
   ],
   "source": [
    "model.score(X, y)"
   ],
   "metadata": {
    "collapsed": false
   }
  },
  {
   "cell_type": "code",
   "execution_count": 33,
   "outputs": [
    {
     "data": {
      "text/plain": "0.6787974683544303"
     },
     "execution_count": 33,
     "metadata": {},
     "output_type": "execute_result"
    }
   ],
   "source": [
    "np.mean(y)"
   ],
   "metadata": {
    "collapsed": false
   }
  },
  {
   "cell_type": "code",
   "execution_count": 46,
   "outputs": [
    {
     "data": {
      "text/plain": "0.8928571428571429"
     },
     "execution_count": 46,
     "metadata": {},
     "output_type": "execute_result"
    }
   ],
   "source": [
    "from sklearn.linear_model import LogisticRegression\n",
    "model = LogisticRegression(penalty='none', max_iter=10000).fit(X, y)\n",
    "model.score(X,y)"
   ],
   "metadata": {
    "collapsed": false
   }
  },
  {
   "cell_type": "code",
   "execution_count": 11,
   "outputs": [],
   "source": [],
   "metadata": {
    "collapsed": false
   }
  }
 ],
 "metadata": {
  "kernelspec": {
   "display_name": "Python 3",
   "language": "python",
   "name": "python3"
  },
  "language_info": {
   "codemirror_mode": {
    "name": "ipython",
    "version": 2
   },
   "file_extension": ".py",
   "mimetype": "text/x-python",
   "name": "python",
   "nbconvert_exporter": "python",
   "pygments_lexer": "ipython2",
   "version": "2.7.6"
  }
 },
 "nbformat": 4,
 "nbformat_minor": 0
}
