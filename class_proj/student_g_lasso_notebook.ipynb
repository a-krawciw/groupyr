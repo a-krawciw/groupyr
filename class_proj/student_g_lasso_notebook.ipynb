{
 "cells": [
  {
   "cell_type": "code",
   "execution_count": null,
   "metadata": {
    "collapsed": true
   },
   "outputs": [],
   "source": []
  },
  {
   "cell_type": "code",
   "execution_count": 1,
   "outputs": [],
   "source": [
    "import numpy as np\n",
    "from matplotlib import pyplot as plt\n",
    "from groupyr import LogisticSGL\n",
    "import pandas as pd\n"
   ],
   "metadata": {
    "collapsed": false
   }
  },
  {
   "cell_type": "code",
   "execution_count": 2,
   "outputs": [],
   "source": [
    "def mark_as_categorical(dataframe: pd.DataFrame, category: str):\n",
    "    dataframe[category] = dataframe[category].astype('category')\n",
    "\n",
    "def get_categories(dataframe: pd.DataFrame):\n",
    "    return [col for col in dataframe.select_dtypes(include=\"category\")]"
   ],
   "metadata": {
    "collapsed": false
   }
  },
  {
   "cell_type": "code",
   "execution_count": 3,
   "outputs": [],
   "source": [
    "def create_groups_from_1hot(data_frame: pd.DataFrame):\n",
    "    expanded = pd.get_dummies(data_frame)\n",
    "    groups = {col: [] for col in data_frame}\n",
    "    for idx, col in enumerate(expanded):\n",
    "        category = col.split(\"_\")[0]\n",
    "        groups[category].append(idx)\n",
    "\n",
    "    groups = {k: np.array(v) for k, v in groups.items()}\n",
    "    return expanded, groups"
   ],
   "metadata": {
    "collapsed": false
   }
  },
  {
   "cell_type": "code",
   "execution_count": 4,
   "outputs": [],
   "source": [
    "kid_data = pd.read_csv(\"data.csv\", delimiter=\";\")"
   ],
   "metadata": {
    "collapsed": false
   }
  },
  {
   "cell_type": "code",
   "execution_count": 5,
   "outputs": [],
   "source": [
    "mark_as_categorical(kid_data, \"MaritalStatus\")\n",
    "mark_as_categorical(kid_data, \"ApplicationMode\")\n",
    "mark_as_categorical(kid_data, \"ApplicationOrder\")\n",
    "mark_as_categorical(kid_data, \"TimeOfDay\")\n",
    "mark_as_categorical(kid_data, \"PreviousQualification\")\n",
    "mark_as_categorical(kid_data, \"Nationality\")\n",
    "mark_as_categorical(kid_data, \"MotherQualification\")\n",
    "mark_as_categorical(kid_data, \"FatherQualification\")\n",
    "mark_as_categorical(kid_data, \"MotherOccupation\")\n",
    "mark_as_categorical(kid_data, \"FatherOccupation\")\n",
    "\n",
    "expanded_X, group_idxs = create_groups_from_1hot(kid_data.drop(columns=\"Target\"))"
   ],
   "metadata": {
    "collapsed": false
   }
  },
  {
   "cell_type": "code",
   "execution_count": 6,
   "outputs": [
    {
     "data": {
      "text/plain": "Graduate    2209\nDropout     1421\nEnrolled     794\nName: Target, dtype: int64"
     },
     "execution_count": 6,
     "metadata": {},
     "output_type": "execute_result"
    }
   ],
   "source": [
    "target = kid_data.get(\"Target\").replace(['Dropout', 'Graduate', 'Enrolled'], [0, 1, 2]),\n",
    "kid_data.get(\"Target\").value_counts()"
   ],
   "metadata": {
    "collapsed": false
   }
  },
  {
   "cell_type": "code",
   "execution_count": 7,
   "outputs": [
    {
     "data": {
      "text/plain": "['MaritalStatus',\n 'ApplicationMode',\n 'ApplicationOrder',\n 'TimeOfDay',\n 'PreviousQualification',\n 'Nationality',\n 'MotherQualification',\n 'FatherQualification',\n 'MotherOccupation',\n 'FatherOccupation']"
     },
     "execution_count": 7,
     "metadata": {},
     "output_type": "execute_result"
    }
   ],
   "source": [
    "get_categories(kid_data)"
   ],
   "metadata": {
    "collapsed": false
   }
  },
  {
   "cell_type": "code",
   "execution_count": 42,
   "outputs": [
    {
     "name": "stdout",
     "output_type": "stream",
     "text": [
      "(4424, 50)\n",
      "(4424,)\n"
     ]
    }
   ],
   "source": [
    "from groupyr import LogisticSGLCV\n",
    "\n",
    "X = expanded_X.to_numpy(np.float64)[:, :50]\n",
    "y = kid_data['Target'].replace(['Dropout', 'Graduate', 'Enrolled'], [0, 1, 1]).to_numpy(np.float64)\n",
    "\n",
    "print(X.shape)\n",
    "print(y.shape)\n",
    "\n",
    "model = LogisticSGL(l1_ratio=0.5, alpha=10,\n",
    "    verbose=2, suppress_solver_warnings=False, max_iter=10000\n",
    ").fit(X, y)\n",
    "\n"
   ],
   "metadata": {
    "collapsed": false
   }
  },
  {
   "cell_type": "code",
   "execution_count": 43,
   "outputs": [
    {
     "data": {
      "text/plain": "0.6787974683544303"
     },
     "execution_count": 43,
     "metadata": {},
     "output_type": "execute_result"
    }
   ],
   "source": [
    "model.score(X, y)"
   ],
   "metadata": {
    "collapsed": false
   }
  },
  {
   "cell_type": "code",
   "execution_count": 44,
   "outputs": [
    {
     "data": {
      "text/plain": "0.6787974683544303"
     },
     "execution_count": 44,
     "metadata": {},
     "output_type": "execute_result"
    }
   ],
   "source": [
    "np.mean(y)"
   ],
   "metadata": {
    "collapsed": false
   }
  },
  {
   "cell_type": "code",
   "execution_count": 45,
   "outputs": [
    {
     "data": {
      "text/plain": "0.8790687160940326"
     },
     "execution_count": 45,
     "metadata": {},
     "output_type": "execute_result"
    }
   ],
   "source": [
    "from sklearn.linear_model import LogisticRegression\n",
    "model = LogisticRegression(penalty='none', max_iter=10000).fit(X, y)\n",
    "model.score(X,y)"
   ],
   "metadata": {
    "collapsed": false
   }
  },
  {
   "cell_type": "code",
   "execution_count": null,
   "outputs": [],
   "source": [],
   "metadata": {
    "collapsed": false
   }
  }
 ],
 "metadata": {
  "kernelspec": {
   "display_name": "Python 3",
   "language": "python",
   "name": "python3"
  },
  "language_info": {
   "codemirror_mode": {
    "name": "ipython",
    "version": 2
   },
   "file_extension": ".py",
   "mimetype": "text/x-python",
   "name": "python",
   "nbconvert_exporter": "python",
   "pygments_lexer": "ipython2",
   "version": "2.7.6"
  }
 },
 "nbformat": 4,
 "nbformat_minor": 0
}
