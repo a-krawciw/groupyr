{
 "cells": [
  {
   "cell_type": "code",
   "execution_count": null,
   "metadata": {
    "collapsed": true
   },
   "outputs": [],
   "source": []
  },
  {
   "cell_type": "code",
   "execution_count": 1,
   "outputs": [],
   "source": [
    "import numpy as np\n",
    "from matplotlib import pyplot as plt\n",
    "from groupyr import LogisticSGL\n",
    "import pandas as pd\n"
   ],
   "metadata": {
    "collapsed": false
   }
  },
  {
   "cell_type": "code",
   "execution_count": 2,
   "outputs": [],
   "source": [
    "def mark_as_categorical(dataframe: pd.DataFrame, category: str):\n",
    "    dataframe[category] = dataframe[category].astype('category')\n",
    "\n",
    "def get_categories(dataframe: pd.DataFrame):\n",
    "    return [col for col in dataframe.select_dtypes(include=\"category\")]"
   ],
   "metadata": {
    "collapsed": false
   }
  },
  {
   "cell_type": "code",
   "execution_count": 3,
   "outputs": [],
   "source": [
    "def create_groups_from_1hot(data_frame: pd.DataFrame):\n",
    "    expanded = pd.get_dummies(data_frame)\n",
    "    groups = {col: [] for col in data_frame}\n",
    "    for idx, col in enumerate(expanded):\n",
    "        category = col.split(\"_\")[0]\n",
    "        groups[category].append(idx)\n",
    "\n",
    "    groups = {k: np.array(v) for k, v in groups.items()}\n",
    "    return expanded, groups"
   ],
   "metadata": {
    "collapsed": false
   }
  },
  {
   "cell_type": "code",
   "execution_count": 4,
   "outputs": [],
   "source": [
    "kid_data = pd.read_csv(\"data.csv\", delimiter=\";\")"
   ],
   "metadata": {
    "collapsed": false
   }
  },
  {
   "cell_type": "code",
   "execution_count": 5,
   "outputs": [
    {
     "data": {
      "text/plain": "      PreviousGrade  AdmissionGrade  Displaced  SpecialNeeds  Debtor  \\\n0          0.642105        0.670000          1             0       0   \n1          0.842105        0.750000          1             0       0   \n2          0.642105        0.656842          1             0       0   \n3          0.642105        0.629474          1             0       0   \n4          0.526316        0.744737          0             0       0   \n...             ...             ...        ...           ...     ...   \n4419       0.657895        0.643158          0             0       0   \n4420       0.631579        0.626316          1             0       1   \n4421       0.810526        0.786842          1             0       0   \n4422       0.947368        0.809474          1             0       0   \n4423       0.800000        0.800000          1             0       0   \n\n      TuitionPaid  Gender  Scholarship  Age  International  ...  \\\n0               1       1            0   20              0  ...   \n1               0       1            0   19              0  ...   \n2               0       1            0   19              0  ...   \n3               1       0            0   20              0  ...   \n4               1       0            0   45              0  ...   \n...           ...     ...          ...  ...            ...  ...   \n4419            1       1            0   19              0  ...   \n4420            0       0            0   18              1  ...   \n4421            1       0            1   30              0  ...   \n4422            1       0            1   20              0  ...   \n4423            1       0            0   22              1  ...   \n\n      FatherOccupation_172  FatherOccupation_174  FatherOccupation_175  \\\n0                        0                     0                     0   \n1                        0                     0                     0   \n2                        0                     0                     0   \n3                        0                     0                     0   \n4                        0                     0                     0   \n...                    ...                   ...                   ...   \n4419                     0                     0                     0   \n4420                     0                     0                     0   \n4421                     0                     0                     0   \n4422                     0                     0                     0   \n4423                     0                     0                     0   \n\n      FatherOccupation_181  FatherOccupation_182  FatherOccupation_183  \\\n0                        0                     0                     0   \n1                        0                     0                     0   \n2                        0                     0                     0   \n3                        0                     0                     0   \n4                        0                     0                     0   \n...                    ...                   ...                   ...   \n4419                     0                     0                     0   \n4420                     0                     0                     0   \n4421                     0                     0                     0   \n4422                     0                     0                     0   \n4423                     0                     0                     0   \n\n      FatherOccupation_192  FatherOccupation_193  FatherOccupation_194  \\\n0                        0                     0                     0   \n1                        0                     0                     0   \n2                        0                     0                     0   \n3                        0                     0                     0   \n4                        0                     0                     0   \n...                    ...                   ...                   ...   \n4419                     0                     0                     0   \n4420                     0                     0                     0   \n4421                     0                     0                     0   \n4422                     0                     0                     0   \n4423                     0                     0                     0   \n\n      FatherOccupation_195  \n0                        0  \n1                        0  \n2                        0  \n3                        0  \n4                        0  \n...                    ...  \n4419                     0  \n4420                     0  \n4421                     0  \n4422                     0  \n4423                     0  \n\n[4424 rows x 255 columns]",
      "text/html": "<div>\n<style scoped>\n    .dataframe tbody tr th:only-of-type {\n        vertical-align: middle;\n    }\n\n    .dataframe tbody tr th {\n        vertical-align: top;\n    }\n\n    .dataframe thead th {\n        text-align: right;\n    }\n</style>\n<table border=\"1\" class=\"dataframe\">\n  <thead>\n    <tr style=\"text-align: right;\">\n      <th></th>\n      <th>PreviousGrade</th>\n      <th>AdmissionGrade</th>\n      <th>Displaced</th>\n      <th>SpecialNeeds</th>\n      <th>Debtor</th>\n      <th>TuitionPaid</th>\n      <th>Gender</th>\n      <th>Scholarship</th>\n      <th>Age</th>\n      <th>International</th>\n      <th>...</th>\n      <th>FatherOccupation_172</th>\n      <th>FatherOccupation_174</th>\n      <th>FatherOccupation_175</th>\n      <th>FatherOccupation_181</th>\n      <th>FatherOccupation_182</th>\n      <th>FatherOccupation_183</th>\n      <th>FatherOccupation_192</th>\n      <th>FatherOccupation_193</th>\n      <th>FatherOccupation_194</th>\n      <th>FatherOccupation_195</th>\n    </tr>\n  </thead>\n  <tbody>\n    <tr>\n      <th>0</th>\n      <td>0.642105</td>\n      <td>0.670000</td>\n      <td>1</td>\n      <td>0</td>\n      <td>0</td>\n      <td>1</td>\n      <td>1</td>\n      <td>0</td>\n      <td>20</td>\n      <td>0</td>\n      <td>...</td>\n      <td>0</td>\n      <td>0</td>\n      <td>0</td>\n      <td>0</td>\n      <td>0</td>\n      <td>0</td>\n      <td>0</td>\n      <td>0</td>\n      <td>0</td>\n      <td>0</td>\n    </tr>\n    <tr>\n      <th>1</th>\n      <td>0.842105</td>\n      <td>0.750000</td>\n      <td>1</td>\n      <td>0</td>\n      <td>0</td>\n      <td>0</td>\n      <td>1</td>\n      <td>0</td>\n      <td>19</td>\n      <td>0</td>\n      <td>...</td>\n      <td>0</td>\n      <td>0</td>\n      <td>0</td>\n      <td>0</td>\n      <td>0</td>\n      <td>0</td>\n      <td>0</td>\n      <td>0</td>\n      <td>0</td>\n      <td>0</td>\n    </tr>\n    <tr>\n      <th>2</th>\n      <td>0.642105</td>\n      <td>0.656842</td>\n      <td>1</td>\n      <td>0</td>\n      <td>0</td>\n      <td>0</td>\n      <td>1</td>\n      <td>0</td>\n      <td>19</td>\n      <td>0</td>\n      <td>...</td>\n      <td>0</td>\n      <td>0</td>\n      <td>0</td>\n      <td>0</td>\n      <td>0</td>\n      <td>0</td>\n      <td>0</td>\n      <td>0</td>\n      <td>0</td>\n      <td>0</td>\n    </tr>\n    <tr>\n      <th>3</th>\n      <td>0.642105</td>\n      <td>0.629474</td>\n      <td>1</td>\n      <td>0</td>\n      <td>0</td>\n      <td>1</td>\n      <td>0</td>\n      <td>0</td>\n      <td>20</td>\n      <td>0</td>\n      <td>...</td>\n      <td>0</td>\n      <td>0</td>\n      <td>0</td>\n      <td>0</td>\n      <td>0</td>\n      <td>0</td>\n      <td>0</td>\n      <td>0</td>\n      <td>0</td>\n      <td>0</td>\n    </tr>\n    <tr>\n      <th>4</th>\n      <td>0.526316</td>\n      <td>0.744737</td>\n      <td>0</td>\n      <td>0</td>\n      <td>0</td>\n      <td>1</td>\n      <td>0</td>\n      <td>0</td>\n      <td>45</td>\n      <td>0</td>\n      <td>...</td>\n      <td>0</td>\n      <td>0</td>\n      <td>0</td>\n      <td>0</td>\n      <td>0</td>\n      <td>0</td>\n      <td>0</td>\n      <td>0</td>\n      <td>0</td>\n      <td>0</td>\n    </tr>\n    <tr>\n      <th>...</th>\n      <td>...</td>\n      <td>...</td>\n      <td>...</td>\n      <td>...</td>\n      <td>...</td>\n      <td>...</td>\n      <td>...</td>\n      <td>...</td>\n      <td>...</td>\n      <td>...</td>\n      <td>...</td>\n      <td>...</td>\n      <td>...</td>\n      <td>...</td>\n      <td>...</td>\n      <td>...</td>\n      <td>...</td>\n      <td>...</td>\n      <td>...</td>\n      <td>...</td>\n      <td>...</td>\n    </tr>\n    <tr>\n      <th>4419</th>\n      <td>0.657895</td>\n      <td>0.643158</td>\n      <td>0</td>\n      <td>0</td>\n      <td>0</td>\n      <td>1</td>\n      <td>1</td>\n      <td>0</td>\n      <td>19</td>\n      <td>0</td>\n      <td>...</td>\n      <td>0</td>\n      <td>0</td>\n      <td>0</td>\n      <td>0</td>\n      <td>0</td>\n      <td>0</td>\n      <td>0</td>\n      <td>0</td>\n      <td>0</td>\n      <td>0</td>\n    </tr>\n    <tr>\n      <th>4420</th>\n      <td>0.631579</td>\n      <td>0.626316</td>\n      <td>1</td>\n      <td>0</td>\n      <td>1</td>\n      <td>0</td>\n      <td>0</td>\n      <td>0</td>\n      <td>18</td>\n      <td>1</td>\n      <td>...</td>\n      <td>0</td>\n      <td>0</td>\n      <td>0</td>\n      <td>0</td>\n      <td>0</td>\n      <td>0</td>\n      <td>0</td>\n      <td>0</td>\n      <td>0</td>\n      <td>0</td>\n    </tr>\n    <tr>\n      <th>4421</th>\n      <td>0.810526</td>\n      <td>0.786842</td>\n      <td>1</td>\n      <td>0</td>\n      <td>0</td>\n      <td>1</td>\n      <td>0</td>\n      <td>1</td>\n      <td>30</td>\n      <td>0</td>\n      <td>...</td>\n      <td>0</td>\n      <td>0</td>\n      <td>0</td>\n      <td>0</td>\n      <td>0</td>\n      <td>0</td>\n      <td>0</td>\n      <td>0</td>\n      <td>0</td>\n      <td>0</td>\n    </tr>\n    <tr>\n      <th>4422</th>\n      <td>0.947368</td>\n      <td>0.809474</td>\n      <td>1</td>\n      <td>0</td>\n      <td>0</td>\n      <td>1</td>\n      <td>0</td>\n      <td>1</td>\n      <td>20</td>\n      <td>0</td>\n      <td>...</td>\n      <td>0</td>\n      <td>0</td>\n      <td>0</td>\n      <td>0</td>\n      <td>0</td>\n      <td>0</td>\n      <td>0</td>\n      <td>0</td>\n      <td>0</td>\n      <td>0</td>\n    </tr>\n    <tr>\n      <th>4423</th>\n      <td>0.800000</td>\n      <td>0.800000</td>\n      <td>1</td>\n      <td>0</td>\n      <td>0</td>\n      <td>1</td>\n      <td>0</td>\n      <td>0</td>\n      <td>22</td>\n      <td>1</td>\n      <td>...</td>\n      <td>0</td>\n      <td>0</td>\n      <td>0</td>\n      <td>0</td>\n      <td>0</td>\n      <td>0</td>\n      <td>0</td>\n      <td>0</td>\n      <td>0</td>\n      <td>0</td>\n    </tr>\n  </tbody>\n</table>\n<p>4424 rows × 255 columns</p>\n</div>"
     },
     "execution_count": 5,
     "metadata": {},
     "output_type": "execute_result"
    }
   ],
   "source": [
    "mark_as_categorical(kid_data, \"MaritalStatus\")\n",
    "mark_as_categorical(kid_data, \"ApplicationMode\")\n",
    "mark_as_categorical(kid_data, \"ApplicationOrder\")\n",
    "mark_as_categorical(kid_data, \"TimeOfDay\")\n",
    "mark_as_categorical(kid_data, \"PreviousQualification\")\n",
    "mark_as_categorical(kid_data, \"Nationality\")\n",
    "mark_as_categorical(kid_data, \"MotherQualification\")\n",
    "mark_as_categorical(kid_data, \"FatherQualification\")\n",
    "mark_as_categorical(kid_data, \"MotherOccupation\")\n",
    "mark_as_categorical(kid_data, \"FatherOccupation\")\n",
    "mark_as_categorical(kid_data, \"Course\")\n",
    "target = kid_data.get(\"Target\").replace(['Dropout', 'Graduate', 'Enrolled'], [0, 1, 1]).astype(float),\n",
    "\n",
    "\n",
    "for col in kid_data.select_dtypes(include=\"float64\", exclude=\"category\"):\n",
    "    kid_data[col] /= kid_data[col].max()\n",
    "\n",
    "expanded_X, group_idxs = create_groups_from_1hot(kid_data.drop(columns=\"Target\"))\n",
    "expanded_X"
   ],
   "metadata": {
    "collapsed": false
   }
  },
  {
   "cell_type": "code",
   "execution_count": 18,
   "outputs": [
    {
     "data": {
      "text/plain": "Graduate    1767.2\nDropout     1136.8\nEnrolled     635.2\nName: Target, dtype: float64"
     },
     "execution_count": 18,
     "metadata": {},
     "output_type": "execute_result"
    }
   ],
   "source": [
    "kid_data.get(\"Target\").value_counts()*0.8"
   ],
   "metadata": {
    "collapsed": false
   }
  },
  {
   "cell_type": "code",
   "execution_count": 7,
   "outputs": [
    {
     "data": {
      "text/plain": "['MaritalStatus',\n 'ApplicationMode',\n 'ApplicationOrder',\n 'Course',\n 'TimeOfDay',\n 'PreviousQualification',\n 'Nationality',\n 'MotherQualification',\n 'FatherQualification',\n 'MotherOccupation',\n 'FatherOccupation']"
     },
     "execution_count": 7,
     "metadata": {},
     "output_type": "execute_result"
    }
   ],
   "source": [
    "get_categories(kid_data)"
   ],
   "metadata": {
    "collapsed": false
   }
  },
  {
   "cell_type": "code",
   "execution_count": 15,
   "outputs": [
    {
     "name": "stdout",
     "output_type": "stream",
     "text": [
      "(3539, 255)\n",
      "(3539,)\n"
     ]
    }
   ],
   "source": [
    "from groupyr import LogisticSGLCV\n",
    "from sklearn.model_selection import train_test_split\n",
    "\n",
    "\n",
    "X = expanded_X.to_numpy(np.float64)\n",
    "y = kid_data['Target'].replace(['Dropout', 'Graduate', 'Enrolled'], [1, 0, 2]).to_numpy(np.float64)\n",
    "\n",
    "X_train, X_test, y_train, y_test = train_test_split(X, y, test_size=0.2)\n",
    "\n",
    "print(X_train.shape)\n",
    "print(y_train.shape)"
   ],
   "metadata": {
    "collapsed": false
   }
  },
  {
   "cell_type": "code",
   "execution_count": null,
   "outputs": [],
   "source": [
    "group_model = LogisticSGL(groups=list(group_idxs.values()), l1_ratio=1, alpha=0.01,\n",
    "    verbose=2, suppress_solver_warnings=False, max_iter=10000\n",
    ").fit(X_train, y_train)"
   ],
   "metadata": {
    "collapsed": false
   }
  },
  {
   "cell_type": "code",
   "execution_count": 9,
   "outputs": [
    {
     "name": "stdout",
     "output_type": "stream",
     "text": [
      "[[582  31]\n",
      " [ 88 184]]\n",
      "0.7556468172484601\n",
      "0.8655367231638418\n"
     ]
    }
   ],
   "source": [
    "import sklearn.metrics as metrics\n",
    "y_pred = group_model.predict(X_test)\n",
    "print(metrics.confusion_matrix(y_test, y_pred))\n",
    "print(metrics.f1_score(y_test, y_pred))\n",
    "print(group_model.score(X_test, y_test))"
   ],
   "metadata": {
    "collapsed": false
   }
  },
  {
   "cell_type": "code",
   "execution_count": 10,
   "outputs": [
    {
     "data": {
      "text/plain": "0.3212025316455696"
     },
     "execution_count": 10,
     "metadata": {},
     "output_type": "execute_result"
    }
   ],
   "source": [
    "np.mean(y)"
   ],
   "metadata": {
    "collapsed": false
   }
  },
  {
   "cell_type": "code",
   "execution_count": 17,
   "outputs": [
    {
     "name": "stdout",
     "output_type": "stream",
     "text": [
      "[[402  16  26]\n",
      " [ 48 216  22]\n",
      " [ 66  37  52]]\n",
      "0.7570621468926554\n"
     ]
    }
   ],
   "source": [
    "from sklearn.linear_model import LogisticRegression\n",
    "model = LogisticRegression(penalty='none', max_iter=10000).fit(X_train, y_train)\n",
    "y_pred = model.predict(X_test)\n",
    "print(metrics.confusion_matrix(y_test, y_pred))\n",
    "#print(metrics.f1_score(y_test, y_pred))\n",
    "print(model.score(X_test, y_test))"
   ],
   "metadata": {
    "collapsed": false
   }
  },
  {
   "cell_type": "code",
   "execution_count": 12,
   "outputs": [
    {
     "data": {
      "text/plain": "<matplotlib.legend.Legend at 0x7ff11cc29eb0>"
     },
     "execution_count": 12,
     "metadata": {},
     "output_type": "execute_result"
    },
    {
     "data": {
      "text/plain": "<Figure size 640x480 with 1 Axes>",
      "image/png": "[encoded data removed]"
     },
     "metadata": {},
     "output_type": "display_data"
    }
   ],
   "source": [
    "plt.plot(group_model.coef_, label=\"Group Lasso\")\n",
    "plt.plot(model.coef_.squeeze(), label=\"Regular\")\n",
    "plt.legend()"
   ],
   "metadata": {
    "collapsed": false
   }
  },
  {
   "cell_type": "code",
   "execution_count": 13,
   "outputs": [
    {
     "name": "stdout",
     "output_type": "stream",
     "text": [
      "Index(['TuitionPaid', 'Scholarship', 'Age',\n",
      "       'Curricular units 1st sem (credited)',\n",
      "       'Curricular units 1st sem (enrolled)',\n",
      "       'Curricular units 1st sem (approved)',\n",
      "       'Curricular units 2nd sem (credited)',\n",
      "       'Curricular units 2nd sem (enrolled)',\n",
      "       'Curricular units 2nd sem (evaluations)',\n",
      "       'Curricular units 2nd sem (approved)'],\n",
      "      dtype='object')\n",
      "TuitionPaid\n"
     ]
    }
   ],
   "source": [
    "print(expanded_X.columns[abs(group_model.coef_) > 1e-3])\n",
    "print(expanded_X.columns[np.argmax(abs(group_model.coef_))])"
   ],
   "metadata": {
    "collapsed": false
   }
  },
  {
   "cell_type": "code",
   "execution_count": 22,
   "outputs": [
    {
     "data": {
      "text/plain": "0.9617992766726944"
     },
     "execution_count": 22,
     "metadata": {},
     "output_type": "execute_result"
    }
   ],
   "source": [
    "np.mean(kid_data['Curricular units 1st sem (evaluations)'] >= kid_data['Curricular units 1st sem (enrolled)'])"
   ],
   "metadata": {
    "collapsed": false
   }
  },
  {
   "cell_type": "markdown",
   "source": [
    "Try running regular logistic regression in scikit with multiclass class and compare results\n",
    "Logistic Regression\n",
    "SVM\n",
    "A boosted method from their paper\n",
    "Completely redo the basic scikit learn classifiers\n",
    "Try a neural network\n",
    "Jared and Jordan\n",
    "\n",
    "Stretch - Investigate adding multiclass classification to groupyr\n",
    "Weighting of classes by size in groupyr\n",
    "-Alec\n",
    "\n",
    "Try PCA and LogisticPCA to do feature extraction\n",
    "TBD - (Alec)\n",
    "Backward AIC regression\n",
    "Jared\n",
    "\n",
    "Plot correlations of variables\n",
    "Jordan\n",
    "\n",
    "Report:\n",
    "Write background/motivation sections\n"
   ],
   "metadata": {
    "collapsed": false
   }
  }
 ],
 "metadata": {
  "kernelspec": {
   "display_name": "Python 3",
   "language": "python",
   "name": "python3"
  },
  "language_info": {
   "codemirror_mode": {
    "name": "ipython",
    "version": 2
   },
   "file_extension": ".py",
   "mimetype": "text/x-python",
   "name": "python",
   "nbconvert_exporter": "python",
   "pygments_lexer": "ipython2",
   "version": "2.7.6"
  }
 },
 "nbformat": 4,
 "nbformat_minor": 0
}
