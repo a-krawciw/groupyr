{
 "cells": [
  {
   "cell_type": "code",
   "execution_count": 2,
   "metadata": {
    "collapsed": true
   },
   "outputs": [],
   "source": []
  },
  {
   "cell_type": "code",
   "execution_count": 9,
   "outputs": [],
   "source": [
    "import numpy as np\n",
    "from matplotlib import pyplot as plt\n",
    "from groupyr import LogisticSGL\n",
    "from groupyr.logistic import WeightedLogisticSGL\n",
    "import pandas as pd\n",
    "from pca import (pca, logistic_pca)\n",
    "import linearcorex as lc\n",
    "from sklearn.linear_model import LogisticRegression\n",
    "\n",
    "from sklearn.metrics import ConfusionMatrixDisplay\n",
    "import sklearn.metrics as metrics\n"
   ],
   "metadata": {
    "collapsed": false
   }
  },
  {
   "cell_type": "code",
   "execution_count": 2,
   "outputs": [],
   "source": [
    "def mark_as_categorical(dataframe: pd.DataFrame, category: str):\n",
    "    dataframe[category] = dataframe[category].astype('category')\n",
    "\n",
    "def get_categories(dataframe: pd.DataFrame):\n",
    "    return [col for col in dataframe.select_dtypes(include=\"category\")]"
   ],
   "metadata": {
    "collapsed": false
   }
  },
  {
   "cell_type": "code",
   "execution_count": 3,
   "outputs": [],
   "source": [
    "def create_groups_from_1hot(data_frame: pd.DataFrame):\n",
    "    expanded = pd.get_dummies(data_frame)\n",
    "    groups = {col: [] for col in data_frame}\n",
    "    for idx, col in enumerate(expanded):\n",
    "        category = col.split(\"_\")[0]\n",
    "        groups[category].append(idx)\n",
    "\n",
    "    groups = {k: np.array(v) for k, v in groups.items()}\n",
    "    return expanded, groups"
   ],
   "metadata": {
    "collapsed": false
   }
  },
  {
   "cell_type": "code",
   "execution_count": 4,
   "outputs": [],
   "source": [
    "kid_data = pd.read_csv(\"data.csv\", delimiter=\";\")"
   ],
   "metadata": {
    "collapsed": false
   }
  },
  {
   "cell_type": "code",
   "execution_count": 5,
   "outputs": [
    {
     "data": {
      "text/plain": "      PreviousGrade  AdmissionGrade  Displaced  SpecialNeeds  Debtor  \\\n0          0.642105        0.670000        1.0           0.0     0.0   \n1          0.842105        0.750000        1.0           0.0     0.0   \n2          0.642105        0.656842        1.0           0.0     0.0   \n3          0.642105        0.629474        1.0           0.0     0.0   \n4          0.526316        0.744737        0.0           0.0     0.0   \n...             ...             ...        ...           ...     ...   \n4419       0.657895        0.643158        0.0           0.0     0.0   \n4420       0.631579        0.626316        1.0           0.0     1.0   \n4421       0.810526        0.786842        1.0           0.0     0.0   \n4422       0.947368        0.809474        1.0           0.0     0.0   \n4423       0.800000        0.800000        1.0           0.0     0.0   \n\n      TuitionPaid  Gender  Scholarship       Age  International  ...  \\\n0             1.0     1.0          0.0  0.285714            0.0  ...   \n1             0.0     1.0          0.0  0.271429            0.0  ...   \n2             0.0     1.0          0.0  0.271429            0.0  ...   \n3             1.0     0.0          0.0  0.285714            0.0  ...   \n4             1.0     0.0          0.0  0.642857            0.0  ...   \n...           ...     ...          ...       ...            ...  ...   \n4419          1.0     1.0          0.0  0.271429            0.0  ...   \n4420          0.0     0.0          0.0  0.257143            1.0  ...   \n4421          1.0     0.0          1.0  0.428571            0.0  ...   \n4422          1.0     0.0          1.0  0.285714            0.0  ...   \n4423          1.0     0.0          0.0  0.314286            1.0  ...   \n\n      FatherOccupation_172  FatherOccupation_174  FatherOccupation_175  \\\n0                        0                     0                     0   \n1                        0                     0                     0   \n2                        0                     0                     0   \n3                        0                     0                     0   \n4                        0                     0                     0   \n...                    ...                   ...                   ...   \n4419                     0                     0                     0   \n4420                     0                     0                     0   \n4421                     0                     0                     0   \n4422                     0                     0                     0   \n4423                     0                     0                     0   \n\n      FatherOccupation_181  FatherOccupation_182  FatherOccupation_183  \\\n0                        0                     0                     0   \n1                        0                     0                     0   \n2                        0                     0                     0   \n3                        0                     0                     0   \n4                        0                     0                     0   \n...                    ...                   ...                   ...   \n4419                     0                     0                     0   \n4420                     0                     0                     0   \n4421                     0                     0                     0   \n4422                     0                     0                     0   \n4423                     0                     0                     0   \n\n      FatherOccupation_192  FatherOccupation_193  FatherOccupation_194  \\\n0                        0                     0                     0   \n1                        0                     0                     0   \n2                        0                     0                     0   \n3                        0                     0                     0   \n4                        0                     0                     0   \n...                    ...                   ...                   ...   \n4419                     0                     0                     0   \n4420                     0                     0                     0   \n4421                     0                     0                     0   \n4422                     0                     0                     0   \n4423                     0                     0                     0   \n\n      FatherOccupation_195  \n0                        0  \n1                        0  \n2                        0  \n3                        0  \n4                        0  \n...                    ...  \n4419                     0  \n4420                     0  \n4421                     0  \n4422                     0  \n4423                     0  \n\n[4424 rows x 255 columns]",
      "text/html": "<div>\n<style scoped>\n    .dataframe tbody tr th:only-of-type {\n        vertical-align: middle;\n    }\n\n    .dataframe tbody tr th {\n        vertical-align: top;\n    }\n\n    .dataframe thead th {\n        text-align: right;\n    }\n</style>\n<table border=\"1\" class=\"dataframe\">\n  <thead>\n    <tr style=\"text-align: right;\">\n      <th></th>\n      <th>PreviousGrade</th>\n      <th>AdmissionGrade</th>\n      <th>Displaced</th>\n      <th>SpecialNeeds</th>\n      <th>Debtor</th>\n      <th>TuitionPaid</th>\n      <th>Gender</th>\n      <th>Scholarship</th>\n      <th>Age</th>\n      <th>International</th>\n      <th>...</th>\n      <th>FatherOccupation_172</th>\n      <th>FatherOccupation_174</th>\n      <th>FatherOccupation_175</th>\n      <th>FatherOccupation_181</th>\n      <th>FatherOccupation_182</th>\n      <th>FatherOccupation_183</th>\n      <th>FatherOccupation_192</th>\n      <th>FatherOccupation_193</th>\n      <th>FatherOccupation_194</th>\n      <th>FatherOccupation_195</th>\n    </tr>\n  </thead>\n  <tbody>\n    <tr>\n      <th>0</th>\n      <td>0.642105</td>\n      <td>0.670000</td>\n      <td>1.0</td>\n      <td>0.0</td>\n      <td>0.0</td>\n      <td>1.0</td>\n      <td>1.0</td>\n      <td>0.0</td>\n      <td>0.285714</td>\n      <td>0.0</td>\n      <td>...</td>\n      <td>0</td>\n      <td>0</td>\n      <td>0</td>\n      <td>0</td>\n      <td>0</td>\n      <td>0</td>\n      <td>0</td>\n      <td>0</td>\n      <td>0</td>\n      <td>0</td>\n    </tr>\n    <tr>\n      <th>1</th>\n      <td>0.842105</td>\n      <td>0.750000</td>\n      <td>1.0</td>\n      <td>0.0</td>\n      <td>0.0</td>\n      <td>0.0</td>\n      <td>1.0</td>\n      <td>0.0</td>\n      <td>0.271429</td>\n      <td>0.0</td>\n      <td>...</td>\n      <td>0</td>\n      <td>0</td>\n      <td>0</td>\n      <td>0</td>\n      <td>0</td>\n      <td>0</td>\n      <td>0</td>\n      <td>0</td>\n      <td>0</td>\n      <td>0</td>\n    </tr>\n    <tr>\n      <th>2</th>\n      <td>0.642105</td>\n      <td>0.656842</td>\n      <td>1.0</td>\n      <td>0.0</td>\n      <td>0.0</td>\n      <td>0.0</td>\n      <td>1.0</td>\n      <td>0.0</td>\n      <td>0.271429</td>\n      <td>0.0</td>\n      <td>...</td>\n      <td>0</td>\n      <td>0</td>\n      <td>0</td>\n      <td>0</td>\n      <td>0</td>\n      <td>0</td>\n      <td>0</td>\n      <td>0</td>\n      <td>0</td>\n      <td>0</td>\n    </tr>\n    <tr>\n      <th>3</th>\n      <td>0.642105</td>\n      <td>0.629474</td>\n      <td>1.0</td>\n      <td>0.0</td>\n      <td>0.0</td>\n      <td>1.0</td>\n      <td>0.0</td>\n      <td>0.0</td>\n      <td>0.285714</td>\n      <td>0.0</td>\n      <td>...</td>\n      <td>0</td>\n      <td>0</td>\n      <td>0</td>\n      <td>0</td>\n      <td>0</td>\n      <td>0</td>\n      <td>0</td>\n      <td>0</td>\n      <td>0</td>\n      <td>0</td>\n    </tr>\n    <tr>\n      <th>4</th>\n      <td>0.526316</td>\n      <td>0.744737</td>\n      <td>0.0</td>\n      <td>0.0</td>\n      <td>0.0</td>\n      <td>1.0</td>\n      <td>0.0</td>\n      <td>0.0</td>\n      <td>0.642857</td>\n      <td>0.0</td>\n      <td>...</td>\n      <td>0</td>\n      <td>0</td>\n      <td>0</td>\n      <td>0</td>\n      <td>0</td>\n      <td>0</td>\n      <td>0</td>\n      <td>0</td>\n      <td>0</td>\n      <td>0</td>\n    </tr>\n    <tr>\n      <th>...</th>\n      <td>...</td>\n      <td>...</td>\n      <td>...</td>\n      <td>...</td>\n      <td>...</td>\n      <td>...</td>\n      <td>...</td>\n      <td>...</td>\n      <td>...</td>\n      <td>...</td>\n      <td>...</td>\n      <td>...</td>\n      <td>...</td>\n      <td>...</td>\n      <td>...</td>\n      <td>...</td>\n      <td>...</td>\n      <td>...</td>\n      <td>...</td>\n      <td>...</td>\n      <td>...</td>\n    </tr>\n    <tr>\n      <th>4419</th>\n      <td>0.657895</td>\n      <td>0.643158</td>\n      <td>0.0</td>\n      <td>0.0</td>\n      <td>0.0</td>\n      <td>1.0</td>\n      <td>1.0</td>\n      <td>0.0</td>\n      <td>0.271429</td>\n      <td>0.0</td>\n      <td>...</td>\n      <td>0</td>\n      <td>0</td>\n      <td>0</td>\n      <td>0</td>\n      <td>0</td>\n      <td>0</td>\n      <td>0</td>\n      <td>0</td>\n      <td>0</td>\n      <td>0</td>\n    </tr>\n    <tr>\n      <th>4420</th>\n      <td>0.631579</td>\n      <td>0.626316</td>\n      <td>1.0</td>\n      <td>0.0</td>\n      <td>1.0</td>\n      <td>0.0</td>\n      <td>0.0</td>\n      <td>0.0</td>\n      <td>0.257143</td>\n      <td>1.0</td>\n      <td>...</td>\n      <td>0</td>\n      <td>0</td>\n      <td>0</td>\n      <td>0</td>\n      <td>0</td>\n      <td>0</td>\n      <td>0</td>\n      <td>0</td>\n      <td>0</td>\n      <td>0</td>\n    </tr>\n    <tr>\n      <th>4421</th>\n      <td>0.810526</td>\n      <td>0.786842</td>\n      <td>1.0</td>\n      <td>0.0</td>\n      <td>0.0</td>\n      <td>1.0</td>\n      <td>0.0</td>\n      <td>1.0</td>\n      <td>0.428571</td>\n      <td>0.0</td>\n      <td>...</td>\n      <td>0</td>\n      <td>0</td>\n      <td>0</td>\n      <td>0</td>\n      <td>0</td>\n      <td>0</td>\n      <td>0</td>\n      <td>0</td>\n      <td>0</td>\n      <td>0</td>\n    </tr>\n    <tr>\n      <th>4422</th>\n      <td>0.947368</td>\n      <td>0.809474</td>\n      <td>1.0</td>\n      <td>0.0</td>\n      <td>0.0</td>\n      <td>1.0</td>\n      <td>0.0</td>\n      <td>1.0</td>\n      <td>0.285714</td>\n      <td>0.0</td>\n      <td>...</td>\n      <td>0</td>\n      <td>0</td>\n      <td>0</td>\n      <td>0</td>\n      <td>0</td>\n      <td>0</td>\n      <td>0</td>\n      <td>0</td>\n      <td>0</td>\n      <td>0</td>\n    </tr>\n    <tr>\n      <th>4423</th>\n      <td>0.800000</td>\n      <td>0.800000</td>\n      <td>1.0</td>\n      <td>0.0</td>\n      <td>0.0</td>\n      <td>1.0</td>\n      <td>0.0</td>\n      <td>0.0</td>\n      <td>0.314286</td>\n      <td>1.0</td>\n      <td>...</td>\n      <td>0</td>\n      <td>0</td>\n      <td>0</td>\n      <td>0</td>\n      <td>0</td>\n      <td>0</td>\n      <td>0</td>\n      <td>0</td>\n      <td>0</td>\n      <td>0</td>\n    </tr>\n  </tbody>\n</table>\n<p>4424 rows × 255 columns</p>\n</div>"
     },
     "execution_count": 5,
     "metadata": {},
     "output_type": "execute_result"
    }
   ],
   "source": [
    "mark_as_categorical(kid_data, \"MaritalStatus\")\n",
    "mark_as_categorical(kid_data, \"ApplicationMode\")\n",
    "mark_as_categorical(kid_data, \"ApplicationOrder\")\n",
    "mark_as_categorical(kid_data, \"TimeOfDay\")\n",
    "mark_as_categorical(kid_data, \"PreviousQualification\")\n",
    "mark_as_categorical(kid_data, \"Nationality\")\n",
    "mark_as_categorical(kid_data, \"MotherQualification\")\n",
    "mark_as_categorical(kid_data, \"FatherQualification\")\n",
    "mark_as_categorical(kid_data, \"MotherOccupation\")\n",
    "mark_as_categorical(kid_data, \"FatherOccupation\")\n",
    "mark_as_categorical(kid_data, \"Course\")\n",
    "target = kid_data.get(\"Target\").replace(['Dropout', 'Graduate', 'Enrolled'], [0, 1, 2]).astype(float),\n",
    "\n",
    "\n",
    "for col in kid_data.select_dtypes(include=[\"float64\", \"int\"], exclude=\"category\"):\n",
    "    kid_data[col] /= kid_data[col].max()\n",
    "\n",
    "expanded_X, group_idxs = create_groups_from_1hot(kid_data.drop(columns=\"Target\"))\n",
    "expanded_X"
   ],
   "metadata": {
    "collapsed": false
   }
  },
  {
   "cell_type": "code",
   "execution_count": 6,
   "outputs": [
    {
     "data": {
      "text/plain": "Graduate    2209\nDropout     1421\nEnrolled     794\nName: Target, dtype: int64"
     },
     "execution_count": 6,
     "metadata": {},
     "output_type": "execute_result"
    }
   ],
   "source": [
    "kid_data.get(\"Target\").value_counts()"
   ],
   "metadata": {
    "collapsed": false
   }
  },
  {
   "cell_type": "code",
   "execution_count": 7,
   "outputs": [
    {
     "data": {
      "text/plain": "['MaritalStatus',\n 'ApplicationMode',\n 'ApplicationOrder',\n 'Course',\n 'TimeOfDay',\n 'PreviousQualification',\n 'Nationality',\n 'MotherQualification',\n 'FatherQualification',\n 'MotherOccupation',\n 'FatherOccupation']"
     },
     "execution_count": 7,
     "metadata": {},
     "output_type": "execute_result"
    }
   ],
   "source": [
    "get_categories(kid_data)"
   ],
   "metadata": {
    "collapsed": false
   }
  },
  {
   "cell_type": "code",
   "execution_count": 8,
   "outputs": [
    {
     "name": "stdout",
     "output_type": "stream",
     "text": [
      "(3539, 255)\n",
      "(3539,)\n"
     ]
    }
   ],
   "source": [
    "from groupyr import LogisticSGLCV\n",
    "from sklearn.model_selection import train_test_split\n",
    "\n",
    "\n",
    "X = expanded_X.to_numpy(np.float64)\n",
    "y = kid_data['Target'].replace(['Dropout', 'Graduate', 'Enrolled'], [1, 0, 2]).to_numpy(np.float64)\n",
    "\n",
    "X_train, X_test, y_train, y_test = train_test_split(X, y, test_size=0.2)\n",
    "\n",
    "print(X_train.shape)\n",
    "print(y_train.shape)"
   ],
   "metadata": {
    "collapsed": false
   }
  },
  {
   "cell_type": "markdown",
   "source": [
    "Study of OnevRest"
   ],
   "metadata": {
    "collapsed": false
   }
  },
  {
   "cell_type": "code",
   "execution_count": 16,
   "outputs": [],
   "source": [
    "def standard_metrics(model, label=\"\"):\n",
    "    y_pred = model.predict(X_test)\n",
    "    print(\"Stats for\", label)\n",
    "    print(metrics.confusion_matrix(y_test, y_pred))\n",
    "    print(\"F1 score\", metrics.f1_score(y_test, y_pred, average=None))\n",
    "    print(\"Training Score\", model.score(X_train, y_train))\n",
    "    print(\"Testing Score\", model.score(X_test, y_test))"
   ],
   "metadata": {
    "collapsed": false
   }
  },
  {
   "cell_type": "code",
   "execution_count": 17,
   "outputs": [
    {
     "name": "stdout",
     "output_type": "stream",
     "text": [
      "Stats for OneVsRest\n",
      "[[405  13  16]\n",
      " [ 41 215  20]\n",
      " [ 70  43  62]]\n",
      "F1 score [0.85263158 0.78610603 0.45421245]\n",
      "Training Score 0.7903362531788641\n",
      "Testing Score 0.7706214689265537\n",
      "Stats for Softmax\n",
      "[[397  16  21]\n",
      " [ 38 214  24]\n",
      " [ 62  43  70]]\n",
      "F1 score [0.8528464  0.77959927 0.48275862]\n",
      "Training Score 0.8007911839502685\n",
      "Testing Score 0.7694915254237288\n"
     ]
    }
   ],
   "source": [
    "from sklearn.multiclass import OneVsRestClassifier\n",
    "model = LogisticRegression(penalty='l2', max_iter=10000)\n",
    "\n",
    "\n",
    "one_v_all_log_r = OneVsRestClassifier(model).fit(X_train, y_train)\n",
    "model = model.fit(X_train, y_train)\n",
    "\n",
    "standard_metrics(one_v_all_log_r, \"OneVsRest\")\n",
    "standard_metrics(model, \"Softmax\")"
   ],
   "metadata": {
    "collapsed": false
   }
  },
  {
   "cell_type": "code",
   "execution_count": 27,
   "outputs": [],
   "source": [
    "scale=1+0.5/np.mean(y_train),\n",
    "group_model = LogisticSGL( groups=list(group_idxs.values()), l1_ratio=0, alpha=0.02,\n",
    "    verbose=2, suppress_solver_warnings=False, max_iter=10000\n",
    ")\n",
    "one_v_all = OneVsRestClassifier(group_model, n_jobs=3).fit(X_train, y_train)\n",
    "#one_v_all = group_model.fit(X_train, y_train)"
   ],
   "metadata": {
    "collapsed": false
   }
  },
  {
   "cell_type": "code",
   "execution_count": 28,
   "outputs": [
    {
     "name": "stdout",
     "output_type": "stream",
     "text": [
      "Stats for Group Lasso\n",
      "[[408  18   8]\n",
      " [ 38 222  16]\n",
      " [ 75  58  42]]\n",
      "F1 score [0.85445026 0.77351916 0.34854772]\n",
      "Training Score 0.7671658660638598\n",
      "Testing Score 0.7593220338983051\n"
     ]
    }
   ],
   "source": [
    "standard_metrics(one_v_all, \"Group Lasso\")"
   ],
   "metadata": {
    "collapsed": false
   }
  },
  {
   "cell_type": "code",
   "execution_count": 30,
   "outputs": [
    {
     "data": {
      "text/plain": "LogisticSGL(alpha=0.02,\n            groups=[array([25, 26, 27, 28, 29, 30]),\n                    array([31, 32, 33, 34, 35, 36, 37, 38, 39, 40, 41, 42, 43, 44, 45, 46, 47,\n       48]),\n                    array([49, 50, 51, 52, 53, 54, 55, 56]),\n                    array([57, 58, 59, 60, 61, 62, 63, 64, 65, 66, 67, 68, 69, 70, 71, 72, 73]),\n                    array([74, 75]),\n                    array([76, 77, 78, 79, 80, 81, 82, 83, 84, 85, 86, 87, 88, 89, 90, 91, 92]),\n                    array([0]),\n                    array([ 93,  94,  95,  96,  97,  98,  99, 100, 101, 102, 103, 104, 10...\n       235, 236, 237, 238, 239, 240, 241, 242, 243, 244, 245, 246, 247,\n       248, 249, 250, 251, 252, 253, 254]),\n                    array([1]), array([2]), array([3]), array([4]), array([5]),\n                    array([6]), array([7]), array([8]), array([9]), array([10]),\n                    array([11]), array([12]), array([13]), array([14]),\n                    array([15]), array([16]), array([17]), array([18]), ...],\n            l1_ratio=0, max_iter=10000, suppress_solver_warnings=False,\n            verbose=2)",
      "text/html": "<style>#sk-container-id-1 {color: black;background-color: white;}#sk-container-id-1 pre{padding: 0;}#sk-container-id-1 div.sk-toggleable {background-color: white;}#sk-container-id-1 label.sk-toggleable__label {cursor: pointer;display: block;width: 100%;margin-bottom: 0;padding: 0.3em;box-sizing: border-box;text-align: center;}#sk-container-id-1 label.sk-toggleable__label-arrow:before {content: \"▸\";float: left;margin-right: 0.25em;color: #696969;}#sk-container-id-1 label.sk-toggleable__label-arrow:hover:before {color: black;}#sk-container-id-1 div.sk-estimator:hover label.sk-toggleable__label-arrow:before {color: black;}#sk-container-id-1 div.sk-toggleable__content {max-height: 0;max-width: 0;overflow: hidden;text-align: left;background-color: #f0f8ff;}#sk-container-id-1 div.sk-toggleable__content pre {margin: 0.2em;color: black;border-radius: 0.25em;background-color: #f0f8ff;}#sk-container-id-1 input.sk-toggleable__control:checked~div.sk-toggleable__content {max-height: 200px;max-width: 100%;overflow: auto;}#sk-container-id-1 input.sk-toggleable__control:checked~label.sk-toggleable__label-arrow:before {content: \"▾\";}#sk-container-id-1 div.sk-estimator input.sk-toggleable__control:checked~label.sk-toggleable__label {background-color: #d4ebff;}#sk-container-id-1 div.sk-label input.sk-toggleable__control:checked~label.sk-toggleable__label {background-color: #d4ebff;}#sk-container-id-1 input.sk-hidden--visually {border: 0;clip: rect(1px 1px 1px 1px);clip: rect(1px, 1px, 1px, 1px);height: 1px;margin: -1px;overflow: hidden;padding: 0;position: absolute;width: 1px;}#sk-container-id-1 div.sk-estimator {font-family: monospace;background-color: #f0f8ff;border: 1px dotted black;border-radius: 0.25em;box-sizing: border-box;margin-bottom: 0.5em;}#sk-container-id-1 div.sk-estimator:hover {background-color: #d4ebff;}#sk-container-id-1 div.sk-parallel-item::after {content: \"\";width: 100%;border-bottom: 1px solid gray;flex-grow: 1;}#sk-container-id-1 div.sk-label:hover label.sk-toggleable__label {background-color: #d4ebff;}#sk-container-id-1 div.sk-serial::before {content: \"\";position: absolute;border-left: 1px solid gray;box-sizing: border-box;top: 0;bottom: 0;left: 50%;z-index: 0;}#sk-container-id-1 div.sk-serial {display: flex;flex-direction: column;align-items: center;background-color: white;padding-right: 0.2em;padding-left: 0.2em;position: relative;}#sk-container-id-1 div.sk-item {position: relative;z-index: 1;}#sk-container-id-1 div.sk-parallel {display: flex;align-items: stretch;justify-content: center;background-color: white;position: relative;}#sk-container-id-1 div.sk-item::before, #sk-container-id-1 div.sk-parallel-item::before {content: \"\";position: absolute;border-left: 1px solid gray;box-sizing: border-box;top: 0;bottom: 0;left: 50%;z-index: -1;}#sk-container-id-1 div.sk-parallel-item {display: flex;flex-direction: column;z-index: 1;position: relative;background-color: white;}#sk-container-id-1 div.sk-parallel-item:first-child::after {align-self: flex-end;width: 50%;}#sk-container-id-1 div.sk-parallel-item:last-child::after {align-self: flex-start;width: 50%;}#sk-container-id-1 div.sk-parallel-item:only-child::after {width: 0;}#sk-container-id-1 div.sk-dashed-wrapped {border: 1px dashed gray;margin: 0 0.4em 0.5em 0.4em;box-sizing: border-box;padding-bottom: 0.4em;background-color: white;}#sk-container-id-1 div.sk-label label {font-family: monospace;font-weight: bold;display: inline-block;line-height: 1.2em;}#sk-container-id-1 div.sk-label-container {text-align: center;}#sk-container-id-1 div.sk-container {/* jupyter's `normalize.less` sets `[hidden] { display: none; }` but bootstrap.min.css set `[hidden] { display: none !important; }` so we also need the `!important` here to be able to override the default hidden behavior on the sphinx rendered scikit-learn.org. See: https://github.com/scikit-learn/scikit-learn/issues/21755 */display: inline-block !important;position: relative;}#sk-container-id-1 div.sk-text-repr-fallback {display: none;}</style><div id=\"sk-container-id-1\" class=\"sk-top-container\"><div class=\"sk-text-repr-fallback\"><pre>LogisticSGL(alpha=0.02,\n            groups=[array([25, 26, 27, 28, 29, 30]),\n                    array([31, 32, 33, 34, 35, 36, 37, 38, 39, 40, 41, 42, 43, 44, 45, 46, 47,\n       48]),\n                    array([49, 50, 51, 52, 53, 54, 55, 56]),\n                    array([57, 58, 59, 60, 61, 62, 63, 64, 65, 66, 67, 68, 69, 70, 71, 72, 73]),\n                    array([74, 75]),\n                    array([76, 77, 78, 79, 80, 81, 82, 83, 84, 85, 86, 87, 88, 89, 90, 91, 92]),\n                    array([0]),\n                    array([ 93,  94,  95,  96,  97,  98,  99, 100, 101, 102, 103, 104, 10...\n       235, 236, 237, 238, 239, 240, 241, 242, 243, 244, 245, 246, 247,\n       248, 249, 250, 251, 252, 253, 254]),\n                    array([1]), array([2]), array([3]), array([4]), array([5]),\n                    array([6]), array([7]), array([8]), array([9]), array([10]),\n                    array([11]), array([12]), array([13]), array([14]),\n                    array([15]), array([16]), array([17]), array([18]), ...],\n            l1_ratio=0, max_iter=10000, suppress_solver_warnings=False,\n            verbose=2)</pre><b>In a Jupyter environment, please rerun this cell to show the HTML representation or trust the notebook. <br />On GitHub, the HTML representation is unable to render, please try loading this page with nbviewer.org.</b></div><div class=\"sk-container\" hidden><div class=\"sk-item\"><div class=\"sk-estimator sk-toggleable\"><input class=\"sk-toggleable__control sk-hidden--visually\" id=\"sk-estimator-id-1\" type=\"checkbox\" checked><label for=\"sk-estimator-id-1\" class=\"sk-toggleable__label sk-toggleable__label-arrow\">LogisticSGL</label><div class=\"sk-toggleable__content\"><pre>LogisticSGL(alpha=0.02,\n            groups=[array([25, 26, 27, 28, 29, 30]),\n                    array([31, 32, 33, 34, 35, 36, 37, 38, 39, 40, 41, 42, 43, 44, 45, 46, 47,\n       48]),\n                    array([49, 50, 51, 52, 53, 54, 55, 56]),\n                    array([57, 58, 59, 60, 61, 62, 63, 64, 65, 66, 67, 68, 69, 70, 71, 72, 73]),\n                    array([74, 75]),\n                    array([76, 77, 78, 79, 80, 81, 82, 83, 84, 85, 86, 87, 88, 89, 90, 91, 92]),\n                    array([0]),\n                    array([ 93,  94,  95,  96,  97,  98,  99, 100, 101, 102, 103, 104, 10...\n       235, 236, 237, 238, 239, 240, 241, 242, 243, 244, 245, 246, 247,\n       248, 249, 250, 251, 252, 253, 254]),\n                    array([1]), array([2]), array([3]), array([4]), array([5]),\n                    array([6]), array([7]), array([8]), array([9]), array([10]),\n                    array([11]), array([12]), array([13]), array([14]),\n                    array([15]), array([16]), array([17]), array([18]), ...],\n            l1_ratio=0, max_iter=10000, suppress_solver_warnings=False,\n            verbose=2)</pre></div></div></div></div></div>"
     },
     "execution_count": 30,
     "metadata": {},
     "output_type": "execute_result"
    }
   ],
   "source": [
    "\n",
    "group_model.fit(X_train, y_train)"
   ],
   "metadata": {
    "collapsed": false
   }
  },
  {
   "cell_type": "code",
   "execution_count": 31,
   "outputs": [
    {
     "data": {
      "text/plain": "<matplotlib.legend.Legend at 0x7fec772f4af0>"
     },
     "execution_count": 31,
     "metadata": {},
     "output_type": "execute_result"
    },
    {
     "data": {
      "text/plain": "<Figure size 640x480 with 1 Axes>",
      "image/png": "[encoded data removed]"
     },
     "metadata": {},
     "output_type": "display_data"
    }
   ],
   "source": [
    "plt.plot(group_model.coef_, label=\"Group Lasso\")\n",
    "#plt.plot(model.coef_.squeeze(), label=\"Regular\")\n",
    "plt.legend()"
   ],
   "metadata": {
    "collapsed": false
   }
  },
  {
   "cell_type": "code",
   "execution_count": 32,
   "outputs": [
    {
     "name": "stdout",
     "output_type": "stream",
     "text": [
      "Index(['Debtor', 'TuitionPaid', 'Scholarship',\n",
      "       'Curricular units 2nd sem (approved)', 'ApplicationMode_1',\n",
      "       'ApplicationMode_2', 'ApplicationMode_5', 'ApplicationMode_7',\n",
      "       'ApplicationMode_10', 'ApplicationMode_15', 'ApplicationMode_16',\n",
      "       'ApplicationMode_17', 'ApplicationMode_18', 'ApplicationMode_26',\n",
      "       'ApplicationMode_27', 'ApplicationMode_39', 'ApplicationMode_42',\n",
      "       'ApplicationMode_43', 'ApplicationMode_44', 'ApplicationMode_51',\n",
      "       'ApplicationMode_53', 'ApplicationOrder_0', 'ApplicationOrder_1',\n",
      "       'ApplicationOrder_2', 'ApplicationOrder_3', 'ApplicationOrder_4',\n",
      "       'ApplicationOrder_5', 'ApplicationOrder_6', 'TimeOfDay_0',\n",
      "       'TimeOfDay_1'],\n",
      "      dtype='object')\n",
      "Curricular units 2nd sem (approved)\n"
     ]
    }
   ],
   "source": [
    "print(expanded_X.columns[abs(group_model.coef_) > 1e-3])\n",
    "print(expanded_X.columns[np.argmax(abs(group_model.coef_))])"
   ],
   "metadata": {
    "collapsed": false
   }
  },
  {
   "cell_type": "code",
   "execution_count": 17,
   "outputs": [
    {
     "data": {
      "text/plain": "0.22716998191681737"
     },
     "execution_count": 17,
     "metadata": {},
     "output_type": "execute_result"
    }
   ],
   "source": [
    "np.mean(kid_data['Curricular units 1st sem (evaluations)'] >= kid_data['Curricular units 1st sem (enrolled)'])"
   ],
   "metadata": {
    "collapsed": false
   }
  },
  {
   "cell_type": "markdown",
   "source": [
    "Try running regular logistic regression in scikit with multiclass class and compare results\n",
    "Logistic Regression\n",
    "SVM\n",
    "A boosted method from their paper\n",
    "Completely redo the basic scikit learn classifiers\n",
    "Try a neural network\n",
    "Jared and Jordan\n",
    "\n",
    "Stretch - Investigate adding multiclass classification to groupyr\n",
    "Weighting of classes by size in groupyr\n",
    "-Alec\n",
    "\n",
    "Try PCA and LogisticPCA to do feature extraction\n",
    "TBD - (Alec)\n",
    "Backward AIC regression\n",
    "Jared\n",
    "\n",
    "Plot correlations of variables\n",
    "Jordan\n",
    "\n",
    "Report:\n",
    "Write background/motivation sections\n",
    "\n",
    "$$\\frac{1}{2 n}\\sum_{i=1}^n b_i \\log(\\sigma(\\bs{a}_i^T \\bs{x}))\n",
    "         + (1 - b_i) \\log(1 - \\sigma(\\bs{a}_i^T \\bs{x}))$$\n",
    "\n",
    "$$(1 - \\rho) * \\alpha \\displaystyle \\sum_{g \\in G} || \\beta_g ||_2\n",
    "        + \\rho * \\alpha || \\beta ||_1$$"
   ],
   "metadata": {
    "collapsed": false
   }
  },
  {
   "cell_type": "markdown",
   "source": [
    "from pca import logistic_pca\n",
    "W_reg = pca(X_train)[0]\n",
    "z_reg_train = X_train.dot(W_reg)\n",
    "z_reg_test = X_test.dot(W_reg)\n",
    "W_log = logistic_pca(X_train, num_components=100)\n",
    "print(W_log)\n",
    "z_log_train = X_train.dot(W_log)\n",
    "z_log_test = X_test.dot(W_log)\n",
    "\n",
    "#pca_model = LogisticRegression().fit(z_reg_train, y_train)\n",
    "#print(pca_model.score(z_reg_test, y_test))\n",
    "lpca_model = LogisticRegression().fit(z_log_train, y_train)\n",
    "print(lpca_model.score(z_log_test, y_test))"
   ],
   "metadata": {
    "collapsed": false
   },
   "outputs": [
    {
     "ename": "KeyboardInterrupt",
     "evalue": "",
     "output_type": "error",
     "traceback": [
      "\u001B[0;31m---------------------------------------------------------------------------\u001B[0m",
      "\u001B[0;31mKeyboardInterrupt\u001B[0m                         Traceback (most recent call last)",
      "Cell \u001B[0;32mIn [16], line 5\u001B[0m\n\u001B[1;32m      3\u001B[0m z_reg_train \u001B[38;5;241m=\u001B[39m X_train\u001B[38;5;241m.\u001B[39mdot(W_reg)\n\u001B[1;32m      4\u001B[0m z_reg_test \u001B[38;5;241m=\u001B[39m X_test\u001B[38;5;241m.\u001B[39mdot(W_reg)\n\u001B[0;32m----> 5\u001B[0m W_log \u001B[38;5;241m=\u001B[39m \u001B[43mlogistic_pca\u001B[49m\u001B[43m(\u001B[49m\u001B[43mX_train\u001B[49m\u001B[43m,\u001B[49m\u001B[43m \u001B[49m\u001B[43mnum_components\u001B[49m\u001B[38;5;241;43m=\u001B[39;49m\u001B[38;5;241;43m100\u001B[39;49m\u001B[43m)\u001B[49m\n\u001B[1;32m      6\u001B[0m \u001B[38;5;28mprint\u001B[39m(W_log)\n\u001B[1;32m      7\u001B[0m z_log_train \u001B[38;5;241m=\u001B[39m X_train\u001B[38;5;241m.\u001B[39mdot(W_log)\n",
      "File \u001B[0;32m~/UVic/SENG350/groupyr/class_proj/pca.py:90\u001B[0m, in \u001B[0;36mlogistic_pca\u001B[0;34m(X, num_components, num_iter)\u001B[0m\n\u001B[1;32m     88\u001B[0m lam_i \u001B[38;5;241m=\u001B[39m lam(xi[:, i])\n\u001B[1;32m     89\u001B[0m \u001B[38;5;66;03m# gradient and Hessian\u001B[39;00m\n\u001B[0;32m---> 90\u001B[0m H \u001B[38;5;241m=\u001B[39m \u001B[43mnp\u001B[49m\u001B[38;5;241;43m.\u001B[39;49m\u001B[43msum\u001B[49m\u001B[43m(\u001B[49m\u001B[38;5;241;43m2\u001B[39;49m\u001B[38;5;241;43m*\u001B[39;49m\u001B[43mlam_i\u001B[49m\u001B[38;5;241;43m*\u001B[39;49m\u001B[43mE_zhzh\u001B[49m\u001B[43m,\u001B[49m\u001B[43m \u001B[49m\u001B[43maxis\u001B[49m\u001B[38;5;241;43m=\u001B[39;49m\u001B[38;5;241;43m2\u001B[39;49m\u001B[43m)\u001B[49m\n\u001B[1;32m     91\u001B[0m g \u001B[38;5;241m=\u001B[39m E_zh \u001B[38;5;241m@\u001B[39m (X[:, i] \u001B[38;5;241m-\u001B[39m \u001B[38;5;241m0.5\u001B[39m)\n\u001B[1;32m     92\u001B[0m \u001B[38;5;66;03m# invert\u001B[39;00m\n",
      "File \u001B[0;32m<__array_function__ internals>:180\u001B[0m, in \u001B[0;36msum\u001B[0;34m(*args, **kwargs)\u001B[0m\n",
      "File \u001B[0;32m~/UVic/SENG350/groupyr/venv/lib/python3.8/site-packages/numpy/core/fromnumeric.py:2298\u001B[0m, in \u001B[0;36msum\u001B[0;34m(a, axis, dtype, out, keepdims, initial, where)\u001B[0m\n\u001B[1;32m   2295\u001B[0m         \u001B[38;5;28;01mreturn\u001B[39;00m out\n\u001B[1;32m   2296\u001B[0m     \u001B[38;5;28;01mreturn\u001B[39;00m res\n\u001B[0;32m-> 2298\u001B[0m \u001B[38;5;28;01mreturn\u001B[39;00m \u001B[43m_wrapreduction\u001B[49m\u001B[43m(\u001B[49m\u001B[43ma\u001B[49m\u001B[43m,\u001B[49m\u001B[43m \u001B[49m\u001B[43mnp\u001B[49m\u001B[38;5;241;43m.\u001B[39;49m\u001B[43madd\u001B[49m\u001B[43m,\u001B[49m\u001B[43m \u001B[49m\u001B[38;5;124;43m'\u001B[39;49m\u001B[38;5;124;43msum\u001B[39;49m\u001B[38;5;124;43m'\u001B[39;49m\u001B[43m,\u001B[49m\u001B[43m \u001B[49m\u001B[43maxis\u001B[49m\u001B[43m,\u001B[49m\u001B[43m \u001B[49m\u001B[43mdtype\u001B[49m\u001B[43m,\u001B[49m\u001B[43m \u001B[49m\u001B[43mout\u001B[49m\u001B[43m,\u001B[49m\u001B[43m \u001B[49m\u001B[43mkeepdims\u001B[49m\u001B[38;5;241;43m=\u001B[39;49m\u001B[43mkeepdims\u001B[49m\u001B[43m,\u001B[49m\n\u001B[1;32m   2299\u001B[0m \u001B[43m                      \u001B[49m\u001B[43minitial\u001B[49m\u001B[38;5;241;43m=\u001B[39;49m\u001B[43minitial\u001B[49m\u001B[43m,\u001B[49m\u001B[43m \u001B[49m\u001B[43mwhere\u001B[49m\u001B[38;5;241;43m=\u001B[39;49m\u001B[43mwhere\u001B[49m\u001B[43m)\u001B[49m\n",
      "File \u001B[0;32m~/UVic/SENG350/groupyr/venv/lib/python3.8/site-packages/numpy/core/fromnumeric.py:86\u001B[0m, in \u001B[0;36m_wrapreduction\u001B[0;34m(obj, ufunc, method, axis, dtype, out, **kwargs)\u001B[0m\n\u001B[1;32m     83\u001B[0m         \u001B[38;5;28;01melse\u001B[39;00m:\n\u001B[1;32m     84\u001B[0m             \u001B[38;5;28;01mreturn\u001B[39;00m reduction(axis\u001B[38;5;241m=\u001B[39maxis, out\u001B[38;5;241m=\u001B[39mout, \u001B[38;5;241m*\u001B[39m\u001B[38;5;241m*\u001B[39mpasskwargs)\n\u001B[0;32m---> 86\u001B[0m \u001B[38;5;28;01mreturn\u001B[39;00m \u001B[43mufunc\u001B[49m\u001B[38;5;241;43m.\u001B[39;49m\u001B[43mreduce\u001B[49m\u001B[43m(\u001B[49m\u001B[43mobj\u001B[49m\u001B[43m,\u001B[49m\u001B[43m \u001B[49m\u001B[43maxis\u001B[49m\u001B[43m,\u001B[49m\u001B[43m \u001B[49m\u001B[43mdtype\u001B[49m\u001B[43m,\u001B[49m\u001B[43m \u001B[49m\u001B[43mout\u001B[49m\u001B[43m,\u001B[49m\u001B[43m \u001B[49m\u001B[38;5;241;43m*\u001B[39;49m\u001B[38;5;241;43m*\u001B[39;49m\u001B[43mpasskwargs\u001B[49m\u001B[43m)\u001B[49m\n",
      "\u001B[0;31mKeyboardInterrupt\u001B[0m: "
     ]
    }
   ],
   "execution_count": 16
  },
  {
   "cell_type": "code",
   "execution_count": 20,
   "outputs": [
    {
     "name": "stdout",
     "output_type": "stream",
     "text": [
      "Warning: covariance is nearly singular and this causes a loss of numerical precision.For this reason, we can no longer find an update that increases the objective. Hopefully this is a good solution. If not, this is caused by having many variables that are near duplicates. You could try again with the duplicates removed to look for other structure.\n",
      "[6 6 3 3 3 3 6 6 3 6 1 1 1 1 2 3 1 1 1 2 2 7 5 7 7 3 3 3 3 3 3 3 7 7 7 6 6\n",
      " 7 6 3 5 5 3 6 7 4 7 7 7 1 3 6 3 3 3 3 0 1 7 5 3 3 6 7 6 6 6 6 5 3 7 5 5 5\n",
      " 0 0 3 3 3 6 7 5 5 5 3 5 5 3 3 4 7 7 7 6 7 6 6 6 7 0 7 7 6 1 6 6 6 7 7 6 7\n",
      " 6 6 7 7 6 6 6 6 5 7 3 5 7 5 0 6 0 5 7 7 5 5 7 5 7 7 7 6 7 7 6 6 7 6 6 6 6\n",
      " 5 5 3 5 3 2 5 0 7 7 7 0 3 2 5 5 3 7 5 7 5 7 6 7 6 3 7 6 7 5 6 6 7 7 6 7 6\n",
      " 6 7 7 7 5 6 6 0 7 6 4 7 7 7 5 5 7 7 7 3 6 3 7 7 5 6 6 7 7 7 7 6 6 7 7 7 5\n",
      " 7 4 2 3 7 7 6 7 0 7 6 4 6 0 7 7 6 7 7 7 3 7 5 7 5 5 7 7 3 6 7 3 0]\n",
      "Using CoRex with 8 features Train:0.8239615710652727 Test:0.8011299435028248 F-Score:0.7600767754318617\n"
     ]
    },
    {
     "data": {
      "text/plain": "<sklearn.metrics._plot.confusion_matrix.ConfusionMatrixDisplay at 0x7f1a70659370>"
     },
     "execution_count": 20,
     "metadata": {},
     "output_type": "execute_result"
    },
    {
     "data": {
      "text/plain": "<Figure size 640x480 with 2 Axes>",
      "image/png": "[encoded data removed]"
     },
     "metadata": {},
     "output_type": "display_data"
    }
   ],
   "source": [
    "#scores = lc.pick_n_hidden(X_train, verbose=True, gaussianize='outliers')\n",
    "#print(scores)\n",
    "out = lc.Corex(n_hidden=8, verbose=False, gaussianize='outliers')  # A Corex model with 8 factors\n",
    "out.fit(X_train)  # Fit the model on data\n",
    "z_train = out.transform(X_train)  # Transform data into latent factors\n",
    "z_test = out.transform(X_test)\n",
    "print(out.clusters())  # See the clusters\n",
    "cov = out.get_covariance()  # The covariance matrix\n",
    "\n",
    "corex_model = LogisticRegression().fit(z_train, y_train)\n",
    "train_score = corex_model.score(z_train, y_train)\n",
    "test_score = corex_model.score(z_test, y_test)\n",
    "y_preds = corex_model.predict(z_test)\n",
    "print(f\"Using CoRex with {out.m} features Train:{train_score} Test:{test_score} F-Score:{metrics.f1_score(y_test, y_pred)}\")\n",
    "ConfusionMatrixDisplay.from_predictions(y_test, y_preds)\n",
    "\n"
   ],
   "metadata": {
    "collapsed": false
   }
  },
  {
   "cell_type": "code",
   "execution_count": 19,
   "outputs": [
    {
     "data": {
      "text/plain": "2.560405643738977"
     },
     "execution_count": 19,
     "metadata": {},
     "output_type": "execute_result"
    }
   ],
   "source": [
    "1+0.5/np.mean(y_train)"
   ],
   "metadata": {
    "collapsed": false
   }
  },
  {
   "cell_type": "code",
   "execution_count": 34,
   "outputs": [
    {
     "data": {
      "text/plain": "Index(['ApplicationOrder_9', 'TimeOfDay_0', 'TimeOfDay_1', 'Nationality_17',\n       'MotherQualification_18', 'MotherQualification_22',\n       'FatherQualification_18', 'FatherQualification_25',\n       'MotherOccupation_125', 'FatherOccupation_124', 'FatherOccupation_141',\n       'FatherOccupation_195'],\n      dtype='object')"
     },
     "execution_count": 34,
     "metadata": {},
     "output_type": "execute_result"
    }
   ],
   "source": [
    "expanded_X.columns[out.clusters() == 0]"
   ],
   "metadata": {
    "collapsed": false
   }
  },
  {
   "cell_type": "code",
   "execution_count": null,
   "outputs": [],
   "source": [
    "from sklearn.manifold import TSNE\n",
    "\n",
    "time_start = time.time()\n",
    "\n",
    "tsne = TSNE(n_components=2, verbose=0, perplexity=40, n_iter=300)\n",
    "tsne_pca_results = tsne.fit_transform(pca_result_50)\n",
    "\n",
    "print('t-SNE done! Time elapsed: {} seconds'.format(time.time()-time_start))"
   ],
   "metadata": {
    "collapsed": false
   }
  }
 ],
 "metadata": {
  "kernelspec": {
   "display_name": "Python 3",
   "language": "python",
   "name": "python3"
  },
  "language_info": {
   "codemirror_mode": {
    "name": "ipython",
    "version": 2
   },
   "file_extension": ".py",
   "mimetype": "text/x-python",
   "name": "python",
   "nbconvert_exporter": "python",
   "pygments_lexer": "ipython2",
   "version": "2.7.6"
  }
 },
 "nbformat": 4,
 "nbformat_minor": 0
}
